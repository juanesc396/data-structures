{
 "cells": [
  {
   "cell_type": "code",
   "execution_count": 17,
   "id": "1dfb3a89",
   "metadata": {},
   "outputs": [],
   "source": [
    "%run OpenAddressingHashTable.py"
   ]
  },
  {
   "cell_type": "code",
   "execution_count": 18,
   "id": "9c9e925f",
   "metadata": {},
   "outputs": [],
   "source": [
    "a = OpenAddressingHashTable()"
   ]
  },
  {
   "cell_type": "code",
   "execution_count": 19,
   "id": "99cb06c8",
   "metadata": {},
   "outputs": [],
   "source": [
    "a.insert('holis', 'juanso')\n",
    "a.insert('holis', 'value')\n",
    "a.insert('hola', 'asdfa')\n",
    "a.insert('hola', 'juansoeqwe')\n",
    "a.insert('holiiis', 'jua3123nso')\n",
    "a.insert('holssis', 'jua5521nso')\n"
   ]
  },
  {
   "cell_type": "code",
   "execution_count": 20,
   "id": "9d9cda0d",
   "metadata": {},
   "outputs": [
    {
     "name": "stdout",
     "output_type": "stream",
     "text": [
      "['jua3123nso']\n"
     ]
    }
   ],
   "source": [
    "print(a.find('holiiis'))"
   ]
  },
  {
   "cell_type": "code",
   "execution_count": 23,
   "id": "c1f08bd1",
   "metadata": {},
   "outputs": [
    {
     "name": "stdout",
     "output_type": "stream",
     "text": [
      "Unexpected exception formatting exception. Falling back to standard exception\n"
     ]
    },
    {
     "name": "stderr",
     "output_type": "stream",
     "text": [
      "Traceback (most recent call last):\n",
      "  File \"C:\\Users\\Juan-PC\\Anaconda3\\lib\\site-packages\\IPython\\core\\interactiveshell.py\", line 3369, in run_code\n",
      "    exec(code_obj, self.user_global_ns, self.user_ns)\n",
      "  File \"C:\\Users\\Juan-PC\\AppData\\Local\\Temp\\ipykernel_12760\\3016002307.py\", line 1, in <cell line: 1>\n",
      "    a.delete('holis')\n",
      "  File \"C:\\Users\\Juan-PC\\Projects\\Data Structures\\LinkedList\\OpenAddressingHashTable.py\", line 78, in delete\n",
      "KeyError: 'Key Not Found'\n",
      "\n",
      "During handling of the above exception, another exception occurred:\n",
      "\n",
      "Traceback (most recent call last):\n",
      "  File \"C:\\Users\\Juan-PC\\Anaconda3\\lib\\site-packages\\IPython\\core\\interactiveshell.py\", line 1982, in showtraceback\n",
      "    stb = self.InteractiveTB.structured_traceback(\n",
      "  File \"C:\\Users\\Juan-PC\\Anaconda3\\lib\\site-packages\\IPython\\core\\ultratb.py\", line 1118, in structured_traceback\n",
      "    return FormattedTB.structured_traceback(\n",
      "  File \"C:\\Users\\Juan-PC\\Anaconda3\\lib\\site-packages\\IPython\\core\\ultratb.py\", line 1012, in structured_traceback\n",
      "    return VerboseTB.structured_traceback(\n",
      "  File \"C:\\Users\\Juan-PC\\Anaconda3\\lib\\site-packages\\IPython\\core\\ultratb.py\", line 865, in structured_traceback\n",
      "    formatted_exception = self.format_exception_as_a_whole(etype, evalue, etb, number_of_lines_of_context,\n",
      "  File \"C:\\Users\\Juan-PC\\Anaconda3\\lib\\site-packages\\IPython\\core\\ultratb.py\", line 818, in format_exception_as_a_whole\n",
      "    frames.append(self.format_record(r))\n",
      "  File \"C:\\Users\\Juan-PC\\Anaconda3\\lib\\site-packages\\IPython\\core\\ultratb.py\", line 736, in format_record\n",
      "    result += ''.join(_format_traceback_lines(frame_info.lines, Colors, self.has_colors, lvals))\n",
      "  File \"C:\\Users\\Juan-PC\\Anaconda3\\lib\\site-packages\\stack_data\\utils.py\", line 145, in cached_property_wrapper\n",
      "    value = obj.__dict__[self.func.__name__] = self.func(obj)\n",
      "  File \"C:\\Users\\Juan-PC\\Anaconda3\\lib\\site-packages\\stack_data\\core.py\", line 698, in lines\n",
      "    pieces = self.included_pieces\n",
      "  File \"C:\\Users\\Juan-PC\\Anaconda3\\lib\\site-packages\\stack_data\\utils.py\", line 145, in cached_property_wrapper\n",
      "    value = obj.__dict__[self.func.__name__] = self.func(obj)\n",
      "  File \"C:\\Users\\Juan-PC\\Anaconda3\\lib\\site-packages\\stack_data\\core.py\", line 649, in included_pieces\n",
      "    pos = scope_pieces.index(self.executing_piece)\n",
      "  File \"C:\\Users\\Juan-PC\\Anaconda3\\lib\\site-packages\\stack_data\\utils.py\", line 145, in cached_property_wrapper\n",
      "    value = obj.__dict__[self.func.__name__] = self.func(obj)\n",
      "  File \"C:\\Users\\Juan-PC\\Anaconda3\\lib\\site-packages\\stack_data\\core.py\", line 628, in executing_piece\n",
      "    return only(\n",
      "  File \"C:\\Users\\Juan-PC\\Anaconda3\\lib\\site-packages\\executing\\executing.py\", line 164, in only\n",
      "    raise NotOneValueFound('Expected one value, found 0')\n",
      "executing.executing.NotOneValueFound: Expected one value, found 0\n"
     ]
    }
   ],
   "source": [
    "a.delete('holis')"
   ]
  },
  {
   "cell_type": "code",
   "execution_count": 24,
   "id": "1037f1ff",
   "metadata": {},
   "outputs": [
    {
     "name": "stdout",
     "output_type": "stream",
     "text": [
      "['value']\n"
     ]
    }
   ],
   "source": [
    "print(a.find('holis'))"
   ]
  }
 ],
 "metadata": {
  "kernelspec": {
   "display_name": "Python 3 (ipykernel)",
   "language": "python",
   "name": "python3"
  },
  "language_info": {
   "codemirror_mode": {
    "name": "ipython",
    "version": 3
   },
   "file_extension": ".py",
   "mimetype": "text/x-python",
   "name": "python",
   "nbconvert_exporter": "python",
   "pygments_lexer": "ipython3",
   "version": "3.9.12"
  }
 },
 "nbformat": 4,
 "nbformat_minor": 5
}
